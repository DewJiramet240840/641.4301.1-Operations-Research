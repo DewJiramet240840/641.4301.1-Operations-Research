{
  "nbformat": 4,
  "nbformat_minor": 0,
  "metadata": {
    "colab": {
      "name": "641_4301_1CaseStudyPy06.ipynb",
      "provenance": [],
      "include_colab_link": true
    },
    "kernelspec": {
      "name": "python3",
      "display_name": "Python 3"
    },
    "language_info": {
      "name": "python"
    }
  },
  "cells": [
    {
      "cell_type": "markdown",
      "metadata": {
        "id": "view-in-github",
        "colab_type": "text"
      },
      "source": [
        "<a href=\"https://colab.research.google.com/github/DewJiramet240840/641.4301.1-Operations-Research/blob/main/641_4301_1CaseStudyPy06.ipynb\" target=\"_parent\"><img src=\"https://colab.research.google.com/assets/colab-badge.svg\" alt=\"Open In Colab\"/></a>"
      ]
    },
    {
      "cell_type": "code",
      "metadata": {
        "colab": {
          "base_uri": "https://localhost:8080/"
        },
        "id": "sqk5FfJDuuTf",
        "outputId": "a43ed7f3-d800-49c6-8d7c-8b1418172ac4"
      },
      "source": [
        "!pip install ortools"
      ],
      "execution_count": null,
      "outputs": [
        {
          "output_type": "stream",
          "text": [
            "Collecting ortools\n",
            "  Downloading ortools-9.0.9048-cp37-cp37m-manylinux1_x86_64.whl (14.4 MB)\n",
            "\u001b[K     |████████████████████████████████| 14.4 MB 93 kB/s \n",
            "\u001b[?25hRequirement already satisfied: absl-py>=0.11 in /usr/local/lib/python3.7/dist-packages (from ortools) (0.12.0)\n",
            "Requirement already satisfied: protobuf>=3.15.8 in /usr/local/lib/python3.7/dist-packages (from ortools) (3.17.3)\n",
            "Requirement already satisfied: six in /usr/local/lib/python3.7/dist-packages (from absl-py>=0.11->ortools) (1.15.0)\n",
            "Installing collected packages: ortools\n",
            "Successfully installed ortools-9.0.9048\n"
          ],
          "name": "stdout"
        }
      ]
    },
    {
      "cell_type": "code",
      "metadata": {
        "id": "ugPT5YCpo2-N",
        "colab": {
          "base_uri": "https://localhost:8080/"
        },
        "outputId": "9a8a6e15-5c23-4fea-c8b2-eeaa8f0d5107"
      },
      "source": [
        "#!/usr/bin/env python3\n",
        "# Copyright 2010-2021 Google LLC\n",
        "# Licensed under the Apache License, Version 2.0 (the \"License\");\n",
        "# you may not use this file except in compliance with the License.\n",
        "# You may obtain a copy of the License at\n",
        "#\n",
        "#     http://www.apache.org/licenses/LICENSE-2.0\n",
        "#\n",
        "# Unless required by applicable law or agreed to in writing, software\n",
        "# distributed under the License is distributed on an \"AS IS\" BASIS,\n",
        "# WITHOUT WARRANTIES OR CONDITIONS OF ANY KIND, either express or implied.\n",
        "# See the License for the specific language governing permissions and\n",
        "# limitations under the License.\n",
        "\"\"\"Minimal example to call the GLOP solver.\"\"\"\n",
        "# [START program]\n",
        "# [START import]\n",
        "from ortools.linear_solver import pywraplp\n",
        "# [END import]\n",
        "\n",
        "\n",
        "def main():\n",
        "    # [START solver]\n",
        "    # Create the linear solver with the GLOP backend.\n",
        "    solver = pywraplp.Solver.CreateSolver('GLOP')\n",
        "    # [END solver]\n",
        "\n",
        "    # [START variables]\n",
        "    infinity = solver.infinity()\n",
        "    # Create the variables x and y.\n",
        "    x1 = solver.NumVar(0.0, infinity, 'x1')\n",
        "    x2 = solver.NumVar(0.0, infinity, 'x2')\n",
        "    x3 = solver.NumVar(0.0, infinity, 'x3')\n",
        "    x4 = solver.NumVar(0.0, infinity, 'x4')\n",
        "\n",
        "    print('Number of variables =', solver.NumVariables())\n",
        "    # [END variables]\n",
        "\n",
        "    # [START constraints]\n",
        "   \n",
        "    solver.Add(0.07*x1 <= 1.0)\n",
        "    solver.Add(0.11*x2 <= 2.5)\n",
        "    solver.Add(0.19*x3 <= 1.5) \n",
        "    solver.Add(0.15*x4 <= 1.8)\n",
        "    solver.Add((0.15*x2+0.19*x3) >= 0.55)\n",
        "    solver.Add(0.07*x1 >= .15)\n",
        "    solver.Add(((0.07*x1)+(0.11*x2)+(0.19*x3)+(0.15*x4) <= 5))\n",
        "\n",
        "    print('Number of constraints =', solver.NumConstraints())\n",
        "    # [END constraints]\n",
        "\n",
        "    # [START objective]\n",
        "    # Maximize x + 10 * y.\n",
        "    solver.Maximize((0.07*x1)+(0.11*x2)+(0.19*x3)+(0.15*x4))\n",
        "    # [END objective]\n",
        "\n",
        "    # [START solve]\n",
        "    status = solver.Solve()\n",
        "    # [END solve]\n",
        "\n",
        "    # [START print_solution]\n",
        "    if status == pywraplp.Solver.OPTIMAL:\n",
        "        print('Solution:')\n",
        "        print('Objective value =', solver.Objective().Value())\n",
        "        print('x1 =', x1.solution_value())\n",
        "        print('x2 =', x2.solution_value())\n",
        "        print('x3 =', x3.solution_value())\n",
        "        print('x4 =', x4.solution_value())\n",
        "    else:\n",
        "        print('The problem does not have an optimal solution.')\n",
        "    # [END print_solution]\n",
        "\n",
        "    # [START advanced]\n",
        "    print('\\nAdvanced usage:')\n",
        "    print('Problem solved in %f milliseconds' % solver.wall_time())\n",
        "    print('Problem solved in %d iterations' % solver.iterations())\n",
        "    # [END advanced]\n",
        "\n",
        "\n",
        "if __name__ == '__main__':\n",
        "    main()\n",
        "# [END program]"
      ],
      "execution_count": null,
      "outputs": [
        {
          "output_type": "stream",
          "text": [
            "Number of variables = 4\n",
            "Number of constraints = 7\n",
            "Solution:\n",
            "Objective value = 4.999999999999999\n",
            "x1 = 14.285714285714285\n",
            "x2 = 19.999999999999993\n",
            "x3 = 0.0\n",
            "x4 = 12.0\n",
            "\n",
            "Advanced usage:\n",
            "Problem solved in 5.000000 milliseconds\n",
            "Problem solved in 2 iterations\n"
          ],
          "name": "stdout"
        }
      ]
    },
    {
      "cell_type": "code",
      "metadata": {
        "id": "uV_1Q8BrumXH"
      },
      "source": [
        ""
      ],
      "execution_count": null,
      "outputs": []
    }
  ]
}